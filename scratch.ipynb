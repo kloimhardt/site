{
 "cells": [
  {
   "cell_type": "code",
   "execution_count": null,
   "id": "0bf5bd19-a0f8-4913-a4cd-f4246a68f2d2",
   "metadata": {},
   "outputs": [],
   "source": [
    "class HigherOrder(object):\n",
    "    def __init__(self, func):\n",
    "        self.func = func\n",
    "    def __or__(self, other):\n",
    "        return self.func(other)\n",
    "    def __call__(self, x):\n",
    "        return self.func(x)"
   ]
  },
  {
   "cell_type": "code",
   "execution_count": null,
   "id": "7751d44d-6462-4fa1-a23f-00ffb7595696",
   "metadata": {},
   "outputs": [],
   "source": [
    "@HigherOrder\n",
    "def add(x):\n",
    "    return x + 1\n"
   ]
  },
  {
   "cell_type": "code",
   "execution_count": null,
   "id": "deeb5162-b200-4916-bec5-1a939c2e5084",
   "metadata": {},
   "outputs": [],
   "source": [
    "(add | 3)"
   ]
  },
  {
   "cell_type": "code",
   "execution_count": null,
   "id": "3ff4be0c-bf6a-4b34-82f5-2d10eb545ed4",
   "metadata": {},
   "outputs": [],
   "source": [
    "sub = HigherOrder(lambda x: x - 1)"
   ]
  },
  {
   "cell_type": "code",
   "execution_count": null,
   "id": "d79101bc-b60f-4829-a85d-505c64e3d2d6",
   "metadata": {},
   "outputs": [],
   "source": [
    "(sub | 6)"
   ]
  },
  {
   "cell_type": "code",
   "execution_count": null,
   "id": "3f22dc47-4254-4d8e-8d50-b7dca2814b0e",
   "metadata": {},
   "outputs": [],
   "source": [
    "import sympy"
   ]
  },
  {
   "cell_type": "code",
   "execution_count": null,
   "id": "94a0ff24-f7dc-412e-a2e4-dd14ca996fad",
   "metadata": {},
   "outputs": [],
   "source": [
    "def D(f):\n",
    "  x1 = sympy.symbols(\"x1\")\n",
    "  return HigherOrder(sympy.lambdify([x1], sympy.diff(f(x1), x1), \"sympy\"))"
   ]
  },
  {
   "cell_type": "code",
   "execution_count": null,
   "id": "2e446f9c-6f65-4ac8-8080-558cba4c6f29",
   "metadata": {},
   "outputs": [],
   "source": [
    "D(sympy.ln)(sympy.symbols(\"x\"))"
   ]
  },
  {
   "cell_type": "code",
   "execution_count": null,
   "id": "3d28345f-cca7-4bf2-ae58-b0b803708c17",
   "metadata": {},
   "outputs": [],
   "source": [
    "(D(D(sympy.ln)) | \n",
    " (sympy.symbols(\"x\")))"
   ]
  },
  {
   "cell_type": "code",
   "execution_count": null,
   "id": "9c848058-f78e-47f5-bf5c-ad5f176317bc",
   "metadata": {},
   "outputs": [],
   "source": [
    "import functools"
   ]
  },
  {
   "cell_type": "code",
   "execution_count": null,
   "id": "b86a11ec-db46-45cf-8d58-8d4fe877d079",
   "metadata": {},
   "outputs": [],
   "source": [
    "def partial(*args):\n",
    "    return HigherOrder(functools.partial(*args))"
   ]
  },
  {
   "cell_type": "code",
   "execution_count": null,
   "id": "53b3e1d9-d90d-45b1-b675-03dac41f5a10",
   "metadata": {},
   "outputs": [],
   "source": [
    "from sympy.codegen.cfunctions import log2"
   ]
  },
  {
   "cell_type": "code",
   "execution_count": null,
   "id": "1938a7ec-5884-4964-b328-7e0c262b3abb",
   "metadata": {},
   "outputs": [],
   "source": [
    "def log2a(intersect, steps, x):\n",
    "    return log2(x/intersect) * steps"
   ]
  },
  {
   "cell_type": "code",
   "execution_count": null,
   "id": "6445486a-4cb9-40e9-9558-89138ee20a63",
   "metadata": {},
   "outputs": [],
   "source": [
    "def log2b(intersect, steps):\n",
    "    return partial(log2a, intersect, steps)"
   ]
  },
  {
   "cell_type": "code",
   "execution_count": null,
   "id": "ce5e4061-faac-4908-b7b2-f4aefad73e0f",
   "metadata": {},
   "outputs": [],
   "source": [
    "log2b(220, 7)(440)"
   ]
  },
  {
   "cell_type": "code",
   "execution_count": null,
   "id": "8a4f8c0f-11b9-4fd7-9ef9-e99ccd313321",
   "metadata": {},
   "outputs": [],
   "source": [
    "(log2b(220, 7) | 440)"
   ]
  },
  {
   "cell_type": "code",
   "execution_count": null,
   "id": "7ab45f7b-77d9-4064-9b72-e3496ba73489",
   "metadata": {},
   "outputs": [],
   "source": []
  }
 ],
 "metadata": {
  "kernelspec": {
   "display_name": "Python 3 (ipykernel)",
   "language": "python",
   "name": "python3"
  },
  "language_info": {
   "codemirror_mode": {
    "name": "ipython",
    "version": 3
   },
   "file_extension": ".py",
   "mimetype": "text/x-python",
   "name": "python",
   "nbconvert_exporter": "python",
   "pygments_lexer": "ipython3",
   "version": "3.13.3"
  }
 },
 "nbformat": 4,
 "nbformat_minor": 5
}
