{
 "cells": [
  {
   "cell_type": "code",
   "execution_count": null,
   "metadata": {},
   "outputs": [],
   "source": [
    "#|code-fold: true\n",
    "#|code-summary: \"Code Preamble\"\n",
    "\n",
    "import sympy\n",
    "from sympy import symbols, diff, ln\n",
    "from sympy.codegen.cfunctions import log2\n",
    "import functools\n",
    "import matplotlib.pyplot as plt\n",
    "\n",
    "x0=symbols(\"x0\")\n",
    "x1=symbols(\"x1\")\n",
    "\n",
    "def call(f, x):\n",
    "    return f(x)\n",
    "\n",
    "def mapv(a, b):\n",
    "    return list(map(a, map(lambda x: 1.0 * x, b)))\n",
    "\n",
    "def mapv_indexed(f, coll):\n",
    "    return list(map(lambda x: [x, f(x)], map(lambda x: 1.0 * x, coll)))\n",
    "\n",
    "class PipeAsCall(object):\n",
    "    def __init__(self, func):\n",
    "        self.func = func\n",
    "    def __or__(self, other):\n",
    "        return self.func(other)\n",
    "    def __call__(self, x):\n",
    "        return self.func(x)\n",
    "\n",
    "class Transducer(PipeAsCall):\n",
    "  pass\n",
    "\n",
    "def partial(*args):\n",
    "    return PipeAsCall(\n",
    "        functools.partial(*args))\n",
    "\n",
    "def D(f):\n",
    "  var = symbols(\"var\")\n",
    "  return PipeAsCall(sympy.lambdify([var], diff(f(var), var), \"sympy\"))\n",
    "\n",
    "def rnd(expr):\n",
    "     return expr.xreplace({n: round(n, 3) for n in expr.atoms(sympy.Number)})\n",
    "\n",
    "def plot(f, x):\n",
    "    if (type(f)==str) or (type(f)==sympy.core.numbers.Float):\n",
    "       return \"That's not something you can plot\"\n",
    "    else:\n",
    "       plt.plot(x, mapv(f, x), \"o\")\n",
    "\n",
    "def plotting(f):\n",
    "    if type(f) == Transducer:\n",
    "        return partial(lambda f, coll: plt.plot(list(map(lambda x: x[0],f(coll))),list(map(lambda x: x[1],f(coll))), \"o\"), f)\n",
    "    else:\n",
    "        return partial(lambda f, x: plt.plot(x, mapv(f, x), \"o\"), f)\n",
    "\n",
    "isPositive = lambda n: True if n>0 else False\n",
    "\n",
    "def smaller(x):\n",
    "    return lambda n: True if n<x else False\n",
    "\n",
    "def filtering(f):\n",
    "    return Transducer(functools.partial(lambda f,coll: list(filter(f, coll)), f))\n",
    "\n",
    "def mapping(f):\n",
    "    return Transducer(functools.partial(mapv_indexed, f))\n",
    "\n",
    "def compose(f, g):\n",
    "    return Transducer(lambda x: f(g(x)))"
   ]
  },
  {
   "cell_type": "code",
   "execution_count": null,
   "metadata": {},
   "outputs": [],
   "source": [
    "frequencies = [16.35, 17.32, 18.35, 19.45, 20.6, 21.83, 23.12, 24.5, 25.96, 27.5, 29.14, 30.87, 32.7, 34.65, 36.71, 38.89, 41.2, 43.65, 46.25, 49.0, 51.91, 55.0, 58.27, 61.74, 65.41, 69.3, 73.42, 77.78, 82.41, 87.31, 92.5, 98.0, 103.83, 110.0, 116.54, 123.47, 130.81, 138.59, 146.83, 155.56, 164.81, 174.61, 185.0, 196.0, 207.65, 220.0, 233.08, 246.94, 261.63, 277.18, 293.66, 311.13, 329.63, 349.23, 369.99, 392.0, 415.3, 440.0, 466.16, 493.88, 523.25, 554.37, 587.33, 622.25, 659.25, 698.46, 739.99, 783.99, 830.61, 880.0, 932.33, 987.77, 1046.5, 1108.73, 1174.66, 1244.51, 1318.51, 1396.91, 1479.98, 1567.98, 1661.22, 1760.0, 1864.66, 1975.53, 2093.0, 2217.46, 2349.32, 2489.0, 2637.0, 2793.83, 2959.96, 3135.96, 3322.44, 3520.0, 3729.31, 3951.0, 4186.0, 4434.92, 4698.63, 4978.0, 5274.0, 5587.65, 5919.91, 6271.93, 6644.88, 7040.0, 7458.62, 7902.13]"
   ]
  },
  {
   "cell_type": "code",
   "execution_count": null,
   "metadata": {},
   "outputs": [],
   "source": [
    "plot(log2, [1, 2, 4, 8])"
   ]
  },
  {
   "cell_type": "code",
   "execution_count": null,
   "metadata": {},
   "outputs": [],
   "source": [
    "plot(\"log2(x / 220) * 7\", [1, 2, 4, 8])"
   ]
  },
  {
   "cell_type": "code",
   "execution_count": null,
   "metadata": {},
   "outputs": [],
   "source": [
    "def Poe(intersect, steps, x):\n",
    "    return log2(x/intersect) * steps\n",
    "\n",
    "Poe(220, 7, 440)"
   ]
  },
  {
   "cell_type": "code",
   "execution_count": null,
   "metadata": {},
   "outputs": [],
   "source": [
    "def log2b(intersect, steps):\n",
    "    return partial(Poe, intersect, steps)"
   ]
  },
  {
   "cell_type": "code",
   "execution_count": null,
   "metadata": {},
   "outputs": [],
   "source": [
    "plot(Poe(220, 7, 440), [1, 2, 4, 8])"
   ]
  },
  {
   "cell_type": "code",
   "execution_count": null,
   "metadata": {},
   "outputs": [],
   "source": [
    "plot(partial(Poe, 220, 7), [1, 2, 4, 8])"
   ]
  },
  {
   "cell_type": "code",
   "execution_count": null,
   "metadata": {},
   "outputs": [],
   "source": [
    "plot(log2b(220, 7), [1, 2, 4, 8])"
   ]
  },
  {
   "cell_type": "code",
   "execution_count": null,
   "metadata": {},
   "outputs": [],
   "source": [
    "call(log2b(220, 7), 8)"
   ]
  },
  {
   "cell_type": "code",
   "execution_count": null,
   "metadata": {},
   "outputs": [],
   "source": [
    "call(log2b(220, 7), x0)"
   ]
  },
  {
   "cell_type": "code",
   "execution_count": null,
   "metadata": {},
   "outputs": [],
   "source": [
    "call(log2b(1, 0.7), x1)"
   ]
  },
  {
   "cell_type": "code",
   "execution_count": null,
   "metadata": {},
   "outputs": [],
   "source": [
    "call(D(log2b(1, 0.7)), x0).evalf()"
   ]
  },
  {
   "cell_type": "code",
   "execution_count": null,
   "metadata": {},
   "outputs": [],
   "source": [
    "call(D(ln), x0)"
   ]
  },
  {
   "cell_type": "code",
   "execution_count": null,
   "metadata": {},
   "outputs": [],
   "source": [
    "(D(ln) | x0)"
   ]
  },
  {
   "cell_type": "code",
   "execution_count": null,
   "metadata": {},
   "outputs": [],
   "source": [
    "(plotting(ln) | frequencies)"
   ]
  },
  {
   "cell_type": "code",
   "execution_count": null,
   "metadata": {},
   "outputs": [],
   "source": [
    "(plotting(ln) |\n",
    "  (filtering(smaller(900)) |\n",
    "    frequencies))"
   ]
  },
  {
   "cell_type": "code",
   "execution_count": null,
   "metadata": {},
   "outputs": [],
   "source": [
    "(plotting\n",
    "  (compose\n",
    "    (mapping(ln), \n",
    "     filtering(smaller(900)))) |\n",
    "  frequencies)"
   ]
  },
  {
   "cell_type": "code",
   "execution_count": null,
   "metadata": {},
   "outputs": [],
   "source": [
    "(plotting\n",
    "  (compose\n",
    "    (mapping(D(ln)), \n",
    "     filtering(smaller(900)))) |\n",
    "  frequencies)"
   ]
  }
 ],
 "metadata": {
  "kernelspec": {
   "display_name": "Python 3 (ipykernel)",
   "language": "python",
   "name": "python3"
  },
  "language_info": {
   "codemirror_mode": {
    "name": "ipython",
    "version": 3
   },
   "file_extension": ".py",
   "mimetype": "text/x-python",
   "name": "python",
   "nbconvert_exporter": "python",
   "pygments_lexer": "ipython3",
   "version": "3.13.3"
  }
 },
 "nbformat": 4,
 "nbformat_minor": 4
}
