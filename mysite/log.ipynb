{
 "cells": [
  {
   "cell_type": "code",
   "execution_count": null,
   "metadata": {},
   "outputs": [],
   "source": [
    "import sympy\n",
    "from sympy import symbols, diff, ln\n",
    "from sympy.codegen.cfunctions import log2\n",
    "import functools\n",
    "import matplotlib.pyplot as plt\n",
    "\n",
    "x0=symbols(\"x0\")\n",
    "x1=symbols(\"x1\")\n",
    "\n",
    "def call(f, x):\n",
    "    return f(x)\n",
    "\n",
    "def mapv(a, b):\n",
    "    return list(map(a, map(lambda x: 1.0 * x, b)))\n",
    "\n",
    "def mapv_indexed(f, coll):\n",
    "    return list(map(lambda x: [x, f(x)], map(lambda x: 1.0 * x, coll)))\n",
    "\n",
    "class PipeAsCall(object):\n",
    "    def __init__(self, func):\n",
    "        self.func = func\n",
    "    def __or__(self, other):\n",
    "        return self.func(other)\n",
    "    def __call__(self, x):\n",
    "        return self.func(x)\n",
    "\n",
    "class Transducer(PipeAsCall):\n",
    "  pass\n",
    "\n",
    "def partial(*args):\n",
    "    return PipeAsCall(\n",
    "        functools.partial(*args))\n",
    "\n",
    "def D(f):\n",
    "  var = symbols(\"var\")\n",
    "  return PipeAsCall(sympy.lambdify([var], diff(f(var), var), \"sympy\"))\n",
    "\n",
    "def rnd(expr):\n",
    "     return expr.xreplace({n: round(n, 3) for n in expr.atoms(sympy.Number)})\n",
    "\n",
    "def plot(f, x):\n",
    "    if (type(f)==str) or (type(f)==sympy.core.numbers.Float):\n",
    "       return \"That's not something you can plot\"\n",
    "    else:\n",
    "       plt.plot(x, mapv(f, x), \"o\")\n",
    "\n",
    "def plotting(f):\n",
    "    if type(f) == Transducer:\n",
    "        return partial(lambda f, coll: plt.plot(list(map(lambda x: x[0],f(coll))),list(map(lambda x: x[1],f(coll))), \"o\"), f)\n",
    "    else:\n",
    "        return partial(lambda f, x: plt.plot(x, mapv(f, x), \"o\"), f)\n",
    "\n",
    "isPositive = lambda n: True if n>0 else False\n",
    "\n",
    "def smaller(x):\n",
    "    return lambda n: True if n<x else False\n",
    "\n",
    "def filtering(f):\n",
    "    return Transducer(functools.partial(lambda f,coll: list(filter(f, coll)), f))\n",
    "\n",
    "def mapping(f):\n",
    "    return Transducer(functools.partial(mapv_indexed, f))\n",
    "\n",
    "def compose(f, g):\n",
    "    return Transducer(lambda x: f(g(x)))"
   ]
  },
  {
   "cell_type": "code",
   "execution_count": null,
   "metadata": {},
   "outputs": [],
   "source": [
    "import numpy as np\n",
    "import json\n",
    "import inspect\n",
    "\n",
    "\n",
    "# https://muted.io/note-frequencies/\n",
    "data = np.genfromtxt('notes.txt', delimiter='\\t', dtype=str)\n",
    "row_names = data[:, 0].tolist()\n",
    "numerical_data = np.matrix.transpose(data[:, 1:]).astype(float).tolist()\n",
    "\n",
    "nofreq = [item\n",
    "    for subl in\n",
    "      [list(map(lambda n,f: [n, idx, f], row_names, fs))\n",
    "        for idx, fs in enumerate(numerical_data)]\n",
    "   for item in subl]\n",
    "\n",
    "frequencies = [n[2] for n in nofreq]"
   ]
  },
  {
   "cell_type": "code",
   "execution_count": null,
   "metadata": {},
   "outputs": [],
   "source": [
    "plot(log2, [1, 2, 4, 8])"
   ]
  },
  {
   "cell_type": "code",
   "execution_count": null,
   "metadata": {},
   "outputs": [],
   "source": [
    "plot(\"log2(x / 220) * 7\", [1, 2, 4, 8])"
   ]
  },
  {
   "cell_type": "code",
   "execution_count": null,
   "metadata": {},
   "outputs": [],
   "source": [
    "def Poe(intersect, steps, x):\n",
    "    return log2(x/intersect) * steps\n",
    "\n",
    "Poe(220, 7, 440)"
   ]
  },
  {
   "cell_type": "code",
   "execution_count": null,
   "metadata": {},
   "outputs": [],
   "source": [
    "def log2b(intersect, steps):\n",
    "    return partial(Poe, intersect, steps)"
   ]
  },
  {
   "cell_type": "code",
   "execution_count": null,
   "metadata": {},
   "outputs": [],
   "source": [
    "plot(Poe(220, 7, 440), [1, 2, 4, 8])"
   ]
  },
  {
   "cell_type": "code",
   "execution_count": null,
   "metadata": {},
   "outputs": [],
   "source": [
    "plot(partial(Poe, 220, 7), [1, 2, 4, 8])"
   ]
  },
  {
   "cell_type": "code",
   "execution_count": null,
   "metadata": {},
   "outputs": [],
   "source": [
    "plot(log2b(220, 7), [1, 2, 4, 8])"
   ]
  },
  {
   "cell_type": "code",
   "execution_count": null,
   "metadata": {},
   "outputs": [],
   "source": [
    "call(log2b(220, 7), 8)"
   ]
  },
  {
   "cell_type": "code",
   "execution_count": null,
   "metadata": {},
   "outputs": [],
   "source": [
    "call(log2b(220, 7), x0)"
   ]
  },
  {
   "cell_type": "code",
   "execution_count": null,
   "metadata": {},
   "outputs": [],
   "source": [
    "call(log2b(1, 0.7), x1)"
   ]
  },
  {
   "cell_type": "code",
   "execution_count": null,
   "metadata": {},
   "outputs": [],
   "source": [
    "call(D(log2b(1, 0.7)), x0).evalf()"
   ]
  },
  {
   "cell_type": "code",
   "execution_count": null,
   "metadata": {},
   "outputs": [],
   "source": [
    "call(D(ln), x0)"
   ]
  },
  {
   "cell_type": "code",
   "execution_count": null,
   "metadata": {},
   "outputs": [],
   "source": [
    "(D(ln) | x0)"
   ]
  },
  {
   "cell_type": "code",
   "execution_count": null,
   "metadata": {},
   "outputs": [],
   "source": [
    "(plotting(ln) | frequencies)"
   ]
  },
  {
   "cell_type": "code",
   "execution_count": null,
   "metadata": {},
   "outputs": [],
   "source": [
    "(plotting(ln) |\n",
    "  (filtering(smaller(900)) |\n",
    "    frequencies))"
   ]
  },
  {
   "cell_type": "code",
   "execution_count": null,
   "metadata": {},
   "outputs": [],
   "source": [
    "(plotting\n",
    "  (compose\n",
    "    (mapping(ln), \n",
    "     filtering(smaller(900)))) |\n",
    "  frequencies)"
   ]
  },
  {
   "cell_type": "code",
   "execution_count": null,
   "metadata": {},
   "outputs": [],
   "source": [
    "(plotting\n",
    "  (compose\n",
    "    (mapping(D(ln)), \n",
    "     filtering(smaller(900)))) |\n",
    "  frequencies)"
   ]
  }
 ],
 "metadata": {
  "kernelspec": {
   "display_name": "Python 3 (ipykernel)",
   "language": "python",
   "name": "python3"
  },
  "language_info": {
   "codemirror_mode": {
    "name": "ipython",
    "version": 3
   },
   "file_extension": ".py",
   "mimetype": "text/x-python",
   "name": "python",
   "nbconvert_exporter": "python",
   "pygments_lexer": "ipython3",
   "version": "3.13.3"
  }
 },
 "nbformat": 4,
 "nbformat_minor": 4
}
